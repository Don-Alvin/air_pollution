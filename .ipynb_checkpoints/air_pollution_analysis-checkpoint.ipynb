{
 "cells": [
  {
   "cell_type": "code",
   "execution_count": 20,
   "id": "5fd14a55-09c1-48c2-aef4-ba0fb2e6d6b7",
   "metadata": {},
   "outputs": [],
   "source": [
    "import pandas as pd\n",
    "import numpy as np"
   ]
  },
  {
   "cell_type": "code",
   "execution_count": 145,
   "id": "b0712c37-2d66-4236-88f8-4d82c18b44b6",
   "metadata": {},
   "outputs": [],
   "source": [
    "df = pd.read_csv(\"lagos_air_pollution_health_data.csv - lagos_air_pollution_health_data.csv\", index_col=None)"
   ]
  },
  {
   "cell_type": "code",
   "execution_count": 146,
   "id": "24d11cbe-377a-4804-b3ec-bd4cce0f6f95",
   "metadata": {},
   "outputs": [
    {
     "data": {
      "text/html": [
       "<div>\n",
       "<style scoped>\n",
       "    .dataframe tbody tr th:only-of-type {\n",
       "        vertical-align: middle;\n",
       "    }\n",
       "\n",
       "    .dataframe tbody tr th {\n",
       "        vertical-align: top;\n",
       "    }\n",
       "\n",
       "    .dataframe thead th {\n",
       "        text-align: right;\n",
       "    }\n",
       "</style>\n",
       "<table border=\"1\" class=\"dataframe\">\n",
       "  <thead>\n",
       "    <tr style=\"text-align: right;\">\n",
       "      <th></th>\n",
       "      <th>C</th>\n",
       "      <th>date</th>\n",
       "      <th>pm2_5</th>\n",
       "      <th>pm10</th>\n",
       "      <th>no2</th>\n",
       "      <th>so2</th>\n",
       "      <th>o3</th>\n",
       "      <th>hospital_id</th>\n",
       "      <th>respiratory_cases</th>\n",
       "      <th>avg_age_of_patients</th>\n",
       "      <th>weather_temperature</th>\n",
       "      <th>weather_humidity</th>\n",
       "      <th>wind_speed</th>\n",
       "      <th>rainfall_mm</th>\n",
       "      <th>population_density</th>\n",
       "      <th>industrial_activity_index</th>\n",
       "    </tr>\n",
       "  </thead>\n",
       "  <tbody>\n",
       "    <tr>\n",
       "      <th>0</th>\n",
       "      <td>I K E J A</td>\n",
       "      <td>1/1/2021</td>\n",
       "      <td>65.64</td>\n",
       "      <td>135.39</td>\n",
       "      <td>45.21</td>\n",
       "      <td>22.29</td>\n",
       "      <td>34.84</td>\n",
       "      <td>HOSP_IKE_1</td>\n",
       "      <td>16.0</td>\n",
       "      <td>44.0</td>\n",
       "      <td>25.1</td>\n",
       "      <td>40.0</td>\n",
       "      <td>3.1</td>\n",
       "      <td>2.2</td>\n",
       "      <td>22937.7</td>\n",
       "      <td>0.87</td>\n",
       "    </tr>\n",
       "    <tr>\n",
       "      <th>1</th>\n",
       "      <td>Ikeja</td>\n",
       "      <td>1/1/2021</td>\n",
       "      <td>76.49</td>\n",
       "      <td>116.65</td>\n",
       "      <td>50.01</td>\n",
       "      <td>10.20</td>\n",
       "      <td>32.19</td>\n",
       "      <td>HOSP_IKE_4</td>\n",
       "      <td>12.0</td>\n",
       "      <td>33.1</td>\n",
       "      <td>25.3</td>\n",
       "      <td>53.5</td>\n",
       "      <td>3.8</td>\n",
       "      <td>2.2</td>\n",
       "      <td>21787.8</td>\n",
       "      <td>0.32</td>\n",
       "    </tr>\n",
       "    <tr>\n",
       "      <th>2</th>\n",
       "      <td>I K E J A</td>\n",
       "      <td>1/1/2021</td>\n",
       "      <td>55.50</td>\n",
       "      <td>101.72</td>\n",
       "      <td>39.10</td>\n",
       "      <td>21.91</td>\n",
       "      <td>49.99</td>\n",
       "      <td>HOSP_IKE_1</td>\n",
       "      <td>20.0</td>\n",
       "      <td>33.5</td>\n",
       "      <td>27.7</td>\n",
       "      <td>72.3</td>\n",
       "      <td>4.7</td>\n",
       "      <td>1.0</td>\n",
       "      <td>14798.0</td>\n",
       "      <td>0.78</td>\n",
       "    </tr>\n",
       "    <tr>\n",
       "      <th>3</th>\n",
       "      <td>Ikeja</td>\n",
       "      <td>1/1/2021</td>\n",
       "      <td>56.37</td>\n",
       "      <td>138.53</td>\n",
       "      <td>46.40</td>\n",
       "      <td>28.13</td>\n",
       "      <td>24.89</td>\n",
       "      <td>HOSP_IKE_8</td>\n",
       "      <td>15.0</td>\n",
       "      <td>49.3</td>\n",
       "      <td>32.8</td>\n",
       "      <td>62.9</td>\n",
       "      <td>4.8</td>\n",
       "      <td>8.2</td>\n",
       "      <td>18013.6</td>\n",
       "      <td>0.24</td>\n",
       "    </tr>\n",
       "    <tr>\n",
       "      <th>4</th>\n",
       "      <td>I K E J A</td>\n",
       "      <td>1/1/2021</td>\n",
       "      <td>93.77</td>\n",
       "      <td>123.73</td>\n",
       "      <td>59.55</td>\n",
       "      <td>11.82</td>\n",
       "      <td>29.73</td>\n",
       "      <td>HOSP_IKE_3</td>\n",
       "      <td>20.0</td>\n",
       "      <td>45.4</td>\n",
       "      <td>27.9</td>\n",
       "      <td>64.8</td>\n",
       "      <td>3.4</td>\n",
       "      <td>9.1</td>\n",
       "      <td>25980.3</td>\n",
       "      <td>0.30</td>\n",
       "    </tr>\n",
       "  </tbody>\n",
       "</table>\n",
       "</div>"
      ],
      "text/plain": [
       "           C      date  pm2_5    pm10    no2    so2     o3 hospital_id  \\\n",
       "0  I K E J A  1/1/2021  65.64  135.39  45.21  22.29  34.84  HOSP_IKE_1   \n",
       "1      Ikeja  1/1/2021  76.49  116.65  50.01  10.20  32.19  HOSP_IKE_4   \n",
       "2  I K E J A  1/1/2021  55.50  101.72  39.10  21.91  49.99  HOSP_IKE_1   \n",
       "3      Ikeja  1/1/2021  56.37  138.53  46.40  28.13  24.89  HOSP_IKE_8   \n",
       "4  I K E J A  1/1/2021  93.77  123.73  59.55  11.82  29.73  HOSP_IKE_3   \n",
       "\n",
       "   respiratory_cases  avg_age_of_patients  weather_temperature  \\\n",
       "0               16.0                 44.0                 25.1   \n",
       "1               12.0                 33.1                 25.3   \n",
       "2               20.0                 33.5                 27.7   \n",
       "3               15.0                 49.3                 32.8   \n",
       "4               20.0                 45.4                 27.9   \n",
       "\n",
       "   weather_humidity  wind_speed  rainfall_mm  population_density  \\\n",
       "0              40.0         3.1          2.2             22937.7   \n",
       "1              53.5         3.8          2.2             21787.8   \n",
       "2              72.3         4.7          1.0             14798.0   \n",
       "3              62.9         4.8          8.2             18013.6   \n",
       "4              64.8         3.4          9.1             25980.3   \n",
       "\n",
       "   industrial_activity_index  \n",
       "0                       0.87  \n",
       "1                       0.32  \n",
       "2                       0.78  \n",
       "3                       0.24  \n",
       "4                       0.30  "
      ]
     },
     "execution_count": 146,
     "metadata": {},
     "output_type": "execute_result"
    }
   ],
   "source": [
    "df.head()"
   ]
  },
  {
   "cell_type": "code",
   "execution_count": 147,
   "id": "244d70f0-7ee9-4659-955c-4ce1ae9a8ab5",
   "metadata": {},
   "outputs": [],
   "source": [
    "# Rename C column to city\n",
    "df.rename(columns={'C': 'city'}, inplace=True)"
   ]
  },
  {
   "cell_type": "code",
   "execution_count": 150,
   "id": "ce401fca-0de2-4469-8f03-979c79c62aa2",
   "metadata": {},
   "outputs": [
    {
     "name": "stdout",
     "output_type": "stream",
     "text": [
      "city                                 object\n",
      "date                         datetime64[ns]\n",
      "pm2_5                               float64\n",
      "pm10                                float64\n",
      "no2                                 float64\n",
      "so2                                 float64\n",
      "o3                                  float64\n",
      "hospital_id                          object\n",
      "respiratory_cases                   float64\n",
      "avg_age_of_patients                 float64\n",
      "weather_temperature                 float64\n",
      "weather_humidity                    float64\n",
      "wind_speed                          float64\n",
      "rainfall_mm                         float64\n",
      "population_density                  float64\n",
      "industrial_activity_index           float64\n",
      "dtype: object\n"
     ]
    }
   ],
   "source": [
    "print(df.dtypes)"
   ]
  },
  {
   "cell_type": "code",
   "execution_count": 149,
   "id": "5346ae02-ed8d-4749-8940-84add0071df7",
   "metadata": {},
   "outputs": [],
   "source": [
    "# Convert date column type to datetime\n",
    "df['date'] = pd.to_datetime(df['date'], dayfirst=True)"
   ]
  },
  {
   "cell_type": "code",
   "execution_count": 151,
   "id": "e0296622-0a18-45d0-9f9a-1d692bc78425",
   "metadata": {},
   "outputs": [],
   "source": [
    "# Lower column names for uniformity\n",
    "df.columns = df.columns.str.lower()"
   ]
  },
  {
   "cell_type": "code",
   "execution_count": 152,
   "id": "4dd2a7ed-f629-495b-b97e-29327bcc4909",
   "metadata": {},
   "outputs": [
    {
     "data": {
      "text/plain": [
       "city                         28\n",
       "date                         23\n",
       "pm2_5                         3\n",
       "pm10                          9\n",
       "no2                           1\n",
       "so2                           8\n",
       "o3                            7\n",
       "hospital_id                   2\n",
       "respiratory_cases             7\n",
       "avg_age_of_patients          16\n",
       "weather_temperature           4\n",
       "weather_humidity              6\n",
       "wind_speed                    4\n",
       "rainfall_mm                   3\n",
       "population_density           22\n",
       "industrial_activity_index     5\n",
       "dtype: int64"
      ]
     },
     "execution_count": 152,
     "metadata": {},
     "output_type": "execute_result"
    }
   ],
   "source": [
    "df.isnull().sum()"
   ]
  },
  {
   "cell_type": "code",
   "execution_count": 153,
   "id": "69c70346-502d-436c-806f-1a6f251bd304",
   "metadata": {},
   "outputs": [
    {
     "data": {
      "text/plain": [
       "array(['I K E J A', 'Ikeja', 'ikeja', nan, 'YABA', 'yaba', 'Yaba', 'ajah',\n",
       "       'A J A H', 'Ajah', 'surulere', 'SURULERE', 'Surulere', 'Lekki',\n",
       "       'LEKKI', 'lekki'], dtype=object)"
      ]
     },
     "execution_count": 153,
     "metadata": {},
     "output_type": "execute_result"
    }
   ],
   "source": [
    "df['city'].unique()"
   ]
  },
  {
   "cell_type": "code",
   "execution_count": 154,
   "id": "7459f8d9-90f6-4382-8c86-68af740692d3",
   "metadata": {},
   "outputs": [
    {
     "name": "stdout",
     "output_type": "stream",
     "text": [
      "['IKEJA' nan 'YABA' 'AJAH' 'SURULERE' 'LEKKI']\n"
     ]
    }
   ],
   "source": [
    "# Upper city names for uniformity and remove spaces\n",
    "df['city'] = df['city'].str.replace(' ', '').str.upper()\n",
    "print(df['city'].unique())"
   ]
  },
  {
   "cell_type": "markdown",
   "id": "1dad0ffe-fc14-4ac6-bb7e-4310653786ff",
   "metadata": {},
   "source": [
    "### Handle Missing Values"
   ]
  },
  {
   "cell_type": "code",
   "execution_count": 156,
   "id": "d2dcb157-ea13-4d33-b9d8-a1649528c92e",
   "metadata": {},
   "outputs": [
    {
     "data": {
      "text/plain": [
       "city                          0\n",
       "date                         23\n",
       "pm2_5                         3\n",
       "pm10                          9\n",
       "no2                           1\n",
       "so2                           8\n",
       "o3                            7\n",
       "hospital_id                   2\n",
       "respiratory_cases             7\n",
       "avg_age_of_patients          16\n",
       "weather_temperature           4\n",
       "weather_humidity              6\n",
       "wind_speed                    4\n",
       "rainfall_mm                   3\n",
       "population_density           22\n",
       "industrial_activity_index     5\n",
       "dtype: int64"
      ]
     },
     "execution_count": 156,
     "metadata": {},
     "output_type": "execute_result"
    }
   ],
   "source": [
    "# Populate empty city rows\n",
    "# Define mapping of code to city name\n",
    "city_mapping = {\n",
    "    'AJA': 'AJAH',\n",
    "    'IKE': 'IKEJA',\n",
    "    'LEK': 'LEKKI',\n",
    "    'SUR': 'SURULERE',\n",
    "    'YAB': 'YABA',\n",
    "}\n",
    "\n",
    "# Extract city codes from hospital_id column\n",
    "df['city_code'] = df['hospital_id'].str.extract(r'_([A-Z]{3})_')\n",
    "\n",
    "# Map the extracted city codes to the full city names\n",
    "df['mapped_city'] = df['city_code'].map(city_mapping)\n",
    "\n",
    "# Fill empty cities\n",
    "df['city'] = df['city'].replace('', np.nan).combine_first(df['mapped_city'])\n",
    "\n",
    "# Drop extra columns\n",
    "df.drop(columns=['city_code', 'mapped_city'], inplace=True)\n",
    "\n",
    "df.isnull().sum()"
   ]
  },
  {
   "cell_type": "code",
   "execution_count": 157,
   "id": "466c33d7-15ed-4b66-adf3-babddb3a1da6",
   "metadata": {},
   "outputs": [],
   "source": [
    "# Forward fill dates\n",
    "df['date'] = df['date'].ffill()"
   ]
  },
  {
   "cell_type": "code",
   "execution_count": 159,
   "id": "654888a7-fea4-43e9-b4df-ca1bed00eb38",
   "metadata": {},
   "outputs": [
    {
     "data": {
      "text/plain": [
       "city                         0\n",
       "date                         0\n",
       "pm2_5                        1\n",
       "pm10                         0\n",
       "no2                          0\n",
       "so2                          0\n",
       "o3                           0\n",
       "hospital_id                  2\n",
       "respiratory_cases            1\n",
       "avg_age_of_patients          1\n",
       "weather_temperature          0\n",
       "weather_humidity             0\n",
       "wind_speed                   0\n",
       "rainfall_mm                  0\n",
       "population_density           1\n",
       "industrial_activity_index    0\n",
       "dtype: int64"
      ]
     },
     "execution_count": 159,
     "metadata": {},
     "output_type": "execute_result"
    }
   ],
   "source": [
    "# Fill numerical cols with median per hospital and date\n",
    "# Drop missing hospital_ids\n",
    "df = df.dropna(subset=['hospital_id'])\n",
    "med_cols = ['pm2_5', 'pm10', 'no2', 'so2', 'o3', 'respiratory_cases', 'avg_age_of_patients', 'weather_temperature', 'weather_humidity', 'wind_speed', \n",
    "            'rainfall_mm', 'population_density', 'industrial_activity_index']\n",
    "\n",
    "for col in med_cols:\n",
    "    med = df.groupby(['date', 'hospital_id'])[col].transform('median')\n",
    "    df.loc[:, col] = df[col].fillna(med)\n",
    "\n",
    "df.isnull().sum()"
   ]
  },
  {
   "cell_type": "code",
   "execution_count": 160,
   "id": "479a9390-58c5-4984-9735-9db73d9a5ac1",
   "metadata": {},
   "outputs": [],
   "source": [
    "# Drop rows with missing entries\n",
    "df = df.dropna(subset=['pm2_5', 'respiratory_cases', 'avg_age_of_patients', 'population_density'])"
   ]
  },
  {
   "cell_type": "markdown",
   "id": "41168478-07b9-41e6-8a33-84c8081b20ea",
   "metadata": {},
   "source": [
    "#### Aggregate the data my date"
   ]
  },
  {
   "cell_type": "code",
   "execution_count": 161,
   "id": "637d09be-41da-4f19-a30d-fda617387e17",
   "metadata": {},
   "outputs": [],
   "source": [
    "daily_agg = df.groupby(['date', 'hospital_id', 'city']).agg({\n",
    "    'pm2_5': 'mean',\n",
    "    'pm10': 'mean',\n",
    "    'no2': 'mean',\n",
    "    'so2': 'mean',\n",
    "    'o3': 'mean',\n",
    "    'respiratory_cases': 'sum',\n",
    "    'avg_age_of_patients': 'mean',\n",
    "    'weather_temperature': 'mean',\n",
    "    'weather_humidity': 'mean',\n",
    "    'wind_speed': 'mean',\n",
    "    'rainfall_mm': 'sum',\n",
    "    'population_density': 'mean',\n",
    "    'industrial_activity_index': 'mean'\n",
    "}).reset_index()"
   ]
  },
  {
   "cell_type": "code",
   "execution_count": 162,
   "id": "c0291a16-3c06-46ab-aab9-690eb90c01a7",
   "metadata": {},
   "outputs": [],
   "source": [
    "rounding_rules = {\n",
    "    'pm2_5': 2,\n",
    "    'pm10': 2,\n",
    "    'no2': 2,\n",
    "    'so2': 2,\n",
    "    'o3': 2,\n",
    "    'respiratory_cases': 0,\n",
    "    'avg_age_of_patients': 0,\n",
    "    'weather_temperature': 2,\n",
    "    'weather_humidity': 2,\n",
    "    'wind_speed': 2,\n",
    "    'rainfall_mm': 2,\n",
    "    'population_density': 2,\n",
    "    'industrial_activity_index': 2,\n",
    "}\n",
    "\n",
    "# Apply the rounding rules to the DataFrame\n",
    "daily_agg = daily_agg.round(rounding_rules)"
   ]
  },
  {
   "cell_type": "code",
   "execution_count": 193,
   "id": "2496d691-4e1d-47b2-9b5d-d7bc97e4bc9e",
   "metadata": {},
   "outputs": [],
   "source": [
    "daily_agg.drop(columns=(['month_name', 'month_number', 'season']), inplace=True)"
   ]
  },
  {
   "cell_type": "code",
   "execution_count": 190,
   "id": "1c5995a3-5d84-45ee-92a9-7da2c7d87a43",
   "metadata": {},
   "outputs": [],
   "source": [
    "daily_agg['month'] = daily_agg['date'].dt.month_name()\n",
    "daily_agg['year'] = daily_agg['date'].dt.year"
   ]
  },
  {
   "cell_type": "code",
   "execution_count": 180,
   "id": "01ba5a96-b7f1-4ee3-835c-27515a00827c",
   "metadata": {},
   "outputs": [
    {
     "data": {
      "text/plain": [
       "Index(['date', 'hospital_id', 'city', 'pm2_5', 'pm10', 'no2', 'so2', 'o3',\n",
       "       'respiratory_cases', 'avg_age_of_patients', 'weather_temperature',\n",
       "       'weather_humidity', 'wind_speed', 'rainfall_mm', 'population_density',\n",
       "       'industrial_activity_index', 'month_name', 'month_number'],\n",
       "      dtype='object')"
      ]
     },
     "execution_count": 180,
     "metadata": {},
     "output_type": "execute_result"
    }
   ],
   "source": [
    "daily_agg.columns"
   ]
  },
  {
   "cell_type": "code",
   "execution_count": 196,
   "id": "4148165f-887c-4f70-950d-f0a8d2919208",
   "metadata": {},
   "outputs": [],
   "source": [
    "def is_harmattan(month):\n",
    "    if month in ['January', 'February', 'December']:\n",
    "        return 'Harmattan'\n",
    "    else:\n",
    "        return 'Not Harmattan'\n",
    "\n",
    "daily_agg['season'] = daily_agg['month'].apply(is_harmattan)"
   ]
  },
  {
   "cell_type": "code",
   "execution_count": 187,
   "id": "8455d55a-82f6-49ea-a2a4-44bbcb659d13",
   "metadata": {},
   "outputs": [],
   "source": [
    "daily_agg.to_csv('daily_agg.csv')"
   ]
  },
  {
   "cell_type": "code",
   "execution_count": null,
   "id": "46015382-dbde-4646-9625-1ec30099e086",
   "metadata": {},
   "outputs": [],
   "source": []
  }
 ],
 "metadata": {
  "kernelspec": {
   "display_name": "Python 3 (ipykernel)",
   "language": "python",
   "name": "python3"
  },
  "language_info": {
   "codemirror_mode": {
    "name": "ipython",
    "version": 3
   },
   "file_extension": ".py",
   "mimetype": "text/x-python",
   "name": "python",
   "nbconvert_exporter": "python",
   "pygments_lexer": "ipython3",
   "version": "3.9.23"
  }
 },
 "nbformat": 4,
 "nbformat_minor": 5
}
